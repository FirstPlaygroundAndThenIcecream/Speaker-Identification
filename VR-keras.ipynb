{
 "cells": [
  {
   "cell_type": "code",
   "execution_count": 35,
   "metadata": {},
   "outputs": [],
   "source": [
    "import glob\n",
    "import numpy as np\n",
    "import random\n",
    "import librosa\n",
    "from sklearn.model_selection import train_test_split\n",
    "from sklearn.preprocessing import LabelBinarizer\n",
    "\n",
    "import keras\n",
    "from keras.layers import LSTM, Dense, Dropout, Flatten\n",
    "from keras.models import Sequential\n",
    "from keras.optimizers import Adam\n",
    "from keras.callbacks import EarlyStopping, ModelCheckpoint"
   ]
  },
  {
   "cell_type": "code",
   "execution_count": 36,
   "metadata": {},
   "outputs": [],
   "source": [
    "# Data can be downloaded at http://pannous.net/spoken_numbers.tar"
   ]
  },
  {
   "cell_type": "code",
   "execution_count": 37,
   "metadata": {},
   "outputs": [
    {
     "name": "stdout",
     "output_type": "stream",
     "text": [
      "C:/Users/xianl_pmrkzzf/Desktop/tensorflow-speech-recognition-master/spoken_numbers_pcm/\n"
     ]
    }
   ],
   "source": [
    "SEED = 2017\n",
    "DATA_DIR = 'C:/Users/xianl_pmrkzzf/Desktop/tensorflow-speech-recognition-master/spoken_numbers_pcm/'\n",
    "print(DATA_DIR)"
   ]
  },
  {
   "cell_type": "code",
   "execution_count": 61,
   "metadata": {},
   "outputs": [
    {
     "name": "stdout",
     "output_type": "stream",
     "text": [
      "<class 'str'>\n",
      "C:/Users/xianl_pmrkzzf/Desktop/tensorflow-speech-recognition-master/spoken_numbers_pcm\\0_Agnes_100.wav\n",
      "# Training examples: 1920\n",
      "# Validation examples: 480\n"
     ]
    }
   ],
   "source": [
    "files = glob.glob(DATA_DIR + \"*.wav\")\n",
    "print(type(files[0]))\n",
    "print(files[0])\n",
    "X_train, X_val = train_test_split(files, test_size=0.2, random_state=SEED)\n",
    "\n",
    "print('# Training examples: {}'.format(len(X_train)))\n",
    "print('# Validation examples: {}'.format(len(X_val)))"
   ]
  },
  {
   "cell_type": "code",
   "execution_count": 56,
   "metadata": {},
   "outputs": [
    {
     "name": "stdout",
     "output_type": "stream",
     "text": [
      "15\n"
     ]
    }
   ],
   "source": [
    "labels = []\n",
    "for i in range(len(X_train)):\n",
    "    label = X_train[i].split('\\\\')[-1].split('_')[1]\n",
    "    if label not in labels:\n",
    "        labels.append(label)\n",
    "print(len(labels))"
   ]
  },
  {
   "cell_type": "code",
   "execution_count": 40,
   "metadata": {},
   "outputs": [],
   "source": [
    "label_binarizer = LabelBinarizer()\n",
    "label_binarizer.fit(list(set(labels)))\n",
    "\n",
    "def one_hot_encode(x): return label_binarizer.transform(x)"
   ]
  },
  {
   "cell_type": "code",
   "execution_count": 41,
   "metadata": {},
   "outputs": [],
   "source": [
    "n_features = 20\n",
    "max_length = 80\n",
    "n_classes = len(labels)"
   ]
  },
  {
   "cell_type": "code",
   "execution_count": 42,
   "metadata": {},
   "outputs": [],
   "source": [
    "def batch_generator(data, batch_size=16):\n",
    "    while 1:\n",
    "        random.shuffle(data)\n",
    "        X, y = [], []\n",
    "        for i in range(batch_size):\n",
    "            wav = data[i]\n",
    "            wave, sr = librosa.load(wav, mono=True)\n",
    "            label = wav.split('/')[-1].split('_')[1]\n",
    "            y.append(label)\n",
    "            mfcc = librosa.feature.mfcc(wave, sr)\n",
    "            mfcc = np.pad(mfcc, ((0,0), (0, max_length-len(mfcc[0]))), mode='constant', constant_values=0) \n",
    "            X.append(np.array(mfcc))\n",
    "        yield np.array(X), np.array(one_hot_encode(y))"
   ]
  },
  {
   "cell_type": "code",
   "execution_count": 43,
   "metadata": {},
   "outputs": [],
   "source": [
    "learning_rate = 0.001\n",
    "batch_size = 64\n",
    "n_epochs = 50\n",
    "dropout = 0.5\n",
    "\n",
    "input_shape = (n_features, max_length)\n",
    "steps_per_epoch = 50"
   ]
  },
  {
   "cell_type": "code",
   "execution_count": 44,
   "metadata": {},
   "outputs": [],
   "source": [
    "model = Sequential()\n",
    "model.add(LSTM(256, return_sequences=True, input_shape=input_shape,\n",
    "dropout=dropout))\n",
    "model.add(Flatten())\n",
    "model.add(Dense(128, activation='relu'))\n",
    "model.add(Dropout(dropout))\n",
    "model.add(Dense(n_classes, activation='softmax'))"
   ]
  },
  {
   "cell_type": "code",
   "execution_count": 45,
   "metadata": {},
   "outputs": [
    {
     "name": "stdout",
     "output_type": "stream",
     "text": [
      "Model: \"sequential_2\"\n",
      "_________________________________________________________________\n",
      "Layer (type)                 Output Shape              Param #   \n",
      "=================================================================\n",
      "lstm_2 (LSTM)                (None, 20, 256)           345088    \n",
      "_________________________________________________________________\n",
      "flatten_2 (Flatten)          (None, 5120)              0         \n",
      "_________________________________________________________________\n",
      "dense_3 (Dense)              (None, 128)               655488    \n",
      "_________________________________________________________________\n",
      "dropout_2 (Dropout)          (None, 128)               0         \n",
      "_________________________________________________________________\n",
      "dense_4 (Dense)              (None, 15)                1935      \n",
      "=================================================================\n",
      "Total params: 1,002,511\n",
      "Trainable params: 1,002,511\n",
      "Non-trainable params: 0\n",
      "_________________________________________________________________\n"
     ]
    }
   ],
   "source": [
    "opt = Adam(lr=learning_rate)\n",
    "model.compile(loss='categorical_crossentropy', optimizer=opt, metrics=['accuracy'])\n",
    "model.summary()"
   ]
  },
  {
   "cell_type": "code",
   "execution_count": 46,
   "metadata": {
    "scrolled": true
   },
   "outputs": [
    {
     "data": {
      "text/plain": [
       "<keras.callbacks.callbacks.EarlyStopping at 0x14239c25dd8>"
      ]
     },
     "execution_count": 46,
     "metadata": {},
     "output_type": "execute_result"
    }
   ],
   "source": [
    "callbacks = [ModelCheckpoint('checkpoints/voice_recognition_best_model_{epoch:02d}.hdf5', save_best_only=True),\n",
    "            EarlyStopping(monitor='val_acc', patience=2)]\n",
    "#(callbacks[1])"
   ]
  },
  {
   "cell_type": "code",
   "execution_count": 48,
   "metadata": {
    "scrolled": true
   },
   "outputs": [
    {
     "name": "stdout",
     "output_type": "stream",
     "text": [
      "Epoch 1/50\n",
      "50/50 [==============================] - 74s 1s/step - loss: 0.0000e+00 - accuracy: 0.0456 - val_loss: 0.0000e+00 - val_accuracy: 0.0000e+00\n",
      "Epoch 2/50\n"
     ]
    },
    {
     "name": "stderr",
     "output_type": "stream",
     "text": [
      "D:\\Anaconda3\\lib\\site-packages\\keras\\callbacks\\callbacks.py:846: RuntimeWarning: Early stopping conditioned on metric `val_acc` which is not available. Available metrics are: val_loss,val_accuracy,loss,accuracy\n",
      "  (self.monitor, ','.join(list(logs.keys()))), RuntimeWarning\n"
     ]
    },
    {
     "name": "stdout",
     "output_type": "stream",
     "text": [
      "50/50 [==============================] - 79s 2s/step - loss: 0.0000e+00 - accuracy: 0.0494 - val_loss: 0.0000e+00 - val_accuracy: 0.0000e+00\n",
      "Epoch 3/50\n",
      "50/50 [==============================] - 82s 2s/step - loss: 0.0000e+00 - accuracy: 0.0566 - val_loss: 0.0000e+00 - val_accuracy: 0.0000e+00\n",
      "Epoch 4/50\n",
      "50/50 [==============================] - 78s 2s/step - loss: 0.0000e+00 - accuracy: 0.0556 - val_loss: 0.0000e+00 - val_accuracy: 0.0000e+00\n",
      "Epoch 5/50\n",
      "50/50 [==============================] - 80s 2s/step - loss: 0.0000e+00 - accuracy: 0.0609 - val_loss: 0.0000e+00 - val_accuracy: 0.0000e+00\n",
      "Epoch 6/50\n",
      "50/50 [==============================] - 77s 2s/step - loss: 0.0000e+00 - accuracy: 0.0591 - val_loss: 0.0000e+00 - val_accuracy: 0.0000e+00\n",
      "Epoch 7/50\n",
      "50/50 [==============================] - 78s 2s/step - loss: 0.0000e+00 - accuracy: 0.0594 - val_loss: 0.0000e+00 - val_accuracy: 0.0000e+00\n",
      "Epoch 8/50\n",
      "50/50 [==============================] - 83s 2s/step - loss: 0.0000e+00 - accuracy: 0.0597 - val_loss: 0.0000e+00 - val_accuracy: 0.0000e+00\n",
      "Epoch 9/50\n",
      "50/50 [==============================] - 78s 2s/step - loss: 0.0000e+00 - accuracy: 0.0616 - val_loss: 0.0000e+00 - val_accuracy: 0.0000e+00\n",
      "Epoch 10/50\n",
      "50/50 [==============================] - 92s 2s/step - loss: 0.0000e+00 - accuracy: 0.0600 - val_loss: 0.0000e+00 - val_accuracy: 0.0000e+00\n",
      "Epoch 11/50\n",
      "50/50 [==============================] - 85s 2s/step - loss: 0.0000e+00 - accuracy: 0.0587 - val_loss: 0.0000e+00 - val_accuracy: 0.0000e+00\n",
      "Epoch 12/50\n",
      "50/50 [==============================] - 78s 2s/step - loss: 0.0000e+00 - accuracy: 0.0628 - val_loss: 0.0000e+00 - val_accuracy: 0.0000e+00\n",
      "Epoch 13/50\n",
      "50/50 [==============================] - 81s 2s/step - loss: 0.0000e+00 - accuracy: 0.0616 - val_loss: 0.0000e+00 - val_accuracy: 0.0000e+00\n",
      "Epoch 14/50\n",
      "50/50 [==============================] - 78s 2s/step - loss: 0.0000e+00 - accuracy: 0.0628 - val_loss: 0.0000e+00 - val_accuracy: 0.0000e+00\n",
      "Epoch 15/50\n",
      "50/50 [==============================] - 78s 2s/step - loss: 0.0000e+00 - accuracy: 0.0625 - val_loss: 0.0000e+00 - val_accuracy: 0.0000e+00\n",
      "Epoch 16/50\n",
      "50/50 [==============================] - 78s 2s/step - loss: 0.0000e+00 - accuracy: 0.0587 - val_loss: 0.0000e+00 - val_accuracy: 1.0000\n",
      "Epoch 17/50\n",
      "50/50 [==============================] - 76s 2s/step - loss: 0.0000e+00 - accuracy: 0.0631 - val_loss: 0.0000e+00 - val_accuracy: 0.0000e+00\n",
      "Epoch 18/50\n",
      "50/50 [==============================] - 76s 2s/step - loss: 0.0000e+00 - accuracy: 0.0675 - val_loss: 0.0000e+00 - val_accuracy: 0.0000e+00\n",
      "Epoch 19/50\n",
      "50/50 [==============================] - 77s 2s/step - loss: 0.0000e+00 - accuracy: 0.0600 - val_loss: 0.0000e+00 - val_accuracy: 0.0000e+00\n",
      "Epoch 20/50\n",
      "50/50 [==============================] - 76s 2s/step - loss: 0.0000e+00 - accuracy: 0.0619 - val_loss: 0.0000e+00 - val_accuracy: 0.0000e+00\n",
      "Epoch 21/50\n",
      "50/50 [==============================] - 74s 1s/step - loss: 0.0000e+00 - accuracy: 0.0650 - val_loss: 0.0000e+00 - val_accuracy: 0.0000e+00\n",
      "Epoch 22/50\n",
      "50/50 [==============================] - 73s 1s/step - loss: 0.0000e+00 - accuracy: 0.0644 - val_loss: 0.0000e+00 - val_accuracy: 0.0000e+00\n",
      "Epoch 23/50\n",
      "50/50 [==============================] - 72s 1s/step - loss: 0.0000e+00 - accuracy: 0.0625 - val_loss: 0.0000e+00 - val_accuracy: 0.0000e+00\n",
      "Epoch 24/50\n",
      "50/50 [==============================] - 72s 1s/step - loss: 0.0000e+00 - accuracy: 0.0653 - val_loss: 0.0000e+00 - val_accuracy: 0.0000e+00\n",
      "Epoch 25/50\n",
      "50/50 [==============================] - 74s 1s/step - loss: 0.0000e+00 - accuracy: 0.0644 - val_loss: 0.0000e+00 - val_accuracy: 0.0000e+00\n",
      "Epoch 26/50\n",
      "50/50 [==============================] - 73s 1s/step - loss: 0.0000e+00 - accuracy: 0.0628 - val_loss: 0.0000e+00 - val_accuracy: 0.0000e+00\n",
      "Epoch 27/50\n",
      "50/50 [==============================] - 73s 1s/step - loss: 0.0000e+00 - accuracy: 0.0675 - val_loss: 0.0000e+00 - val_accuracy: 0.0000e+00\n",
      "Epoch 28/50\n",
      "50/50 [==============================] - 72s 1s/step - loss: 0.0000e+00 - accuracy: 0.0625 - val_loss: 0.0000e+00 - val_accuracy: 0.0000e+00\n",
      "Epoch 29/50\n",
      "50/50 [==============================] - 73s 1s/step - loss: 0.0000e+00 - accuracy: 0.0662 - val_loss: 0.0000e+00 - val_accuracy: 1.0000\n",
      "Epoch 30/50\n",
      "50/50 [==============================] - 76s 2s/step - loss: 0.0000e+00 - accuracy: 0.0625 - val_loss: 0.0000e+00 - val_accuracy: 0.0000e+00\n",
      "Epoch 31/50\n",
      "50/50 [==============================] - 77s 2s/step - loss: 0.0000e+00 - accuracy: 0.0647 - val_loss: 0.0000e+00 - val_accuracy: 0.0000e+00\n",
      "Epoch 32/50\n",
      "50/50 [==============================] - 80s 2s/step - loss: 0.0000e+00 - accuracy: 0.0669 - val_loss: 0.0000e+00 - val_accuracy: 0.0000e+00\n",
      "Epoch 33/50\n",
      "50/50 [==============================] - 82s 2s/step - loss: 0.0000e+00 - accuracy: 0.0600 - val_loss: 0.0000e+00 - val_accuracy: 1.0000\n",
      "Epoch 34/50\n",
      "50/50 [==============================] - 81s 2s/step - loss: 0.0000e+00 - accuracy: 0.0662 - val_loss: 0.0000e+00 - val_accuracy: 0.0000e+00\n",
      "Epoch 35/50\n",
      "50/50 [==============================] - 80s 2s/step - loss: 0.0000e+00 - accuracy: 0.0637 - val_loss: 0.0000e+00 - val_accuracy: 0.0000e+00\n",
      "Epoch 36/50\n",
      "50/50 [==============================] - 79s 2s/step - loss: 0.0000e+00 - accuracy: 0.0662 - val_loss: 0.0000e+00 - val_accuracy: 0.0000e+00\n",
      "Epoch 37/50\n",
      "50/50 [==============================] - 77s 2s/step - loss: 0.0000e+00 - accuracy: 0.0637 - val_loss: 0.0000e+00 - val_accuracy: 0.0000e+00\n",
      "Epoch 38/50\n",
      "50/50 [==============================] - 79s 2s/step - loss: 0.0000e+00 - accuracy: 0.0650 - val_loss: 0.0000e+00 - val_accuracy: 0.0000e+00\n",
      "Epoch 39/50\n",
      "50/50 [==============================] - 77s 2s/step - loss: 0.0000e+00 - accuracy: 0.0641 - val_loss: 0.0000e+00 - val_accuracy: 0.0000e+00\n",
      "Epoch 40/50\n",
      "50/50 [==============================] - 77s 2s/step - loss: 0.0000e+00 - accuracy: 0.0613 - val_loss: 0.0000e+00 - val_accuracy: 1.0000\n",
      "Epoch 41/50\n",
      "50/50 [==============================] - 80s 2s/step - loss: 0.0000e+00 - accuracy: 0.0656 - val_loss: 0.0000e+00 - val_accuracy: 1.0000\n",
      "Epoch 42/50\n",
      "50/50 [==============================] - 80s 2s/step - loss: 0.0000e+00 - accuracy: 0.0644 - val_loss: 0.0000e+00 - val_accuracy: 0.0000e+00\n",
      "Epoch 43/50\n",
      "50/50 [==============================] - 87s 2s/step - loss: 0.0000e+00 - accuracy: 0.0666 - val_loss: 0.0000e+00 - val_accuracy: 0.0000e+00\n",
      "Epoch 44/50\n",
      "50/50 [==============================] - 90s 2s/step - loss: 0.0000e+00 - accuracy: 0.0662 - val_loss: 0.0000e+00 - val_accuracy: 0.0000e+00\n",
      "Epoch 45/50\n",
      "50/50 [==============================] - 75s 1s/step - loss: 0.0000e+00 - accuracy: 0.0650 - val_loss: 0.0000e+00 - val_accuracy: 0.0000e+00\n",
      "Epoch 46/50\n",
      "50/50 [==============================] - 73s 1s/step - loss: 0.0000e+00 - accuracy: 0.0662 - val_loss: 0.0000e+00 - val_accuracy: 0.0000e+00\n",
      "Epoch 47/50\n",
      "50/50 [==============================] - 74s 1s/step - loss: 0.0000e+00 - accuracy: 0.0641 - val_loss: 0.0000e+00 - val_accuracy: 0.0000e+00\n",
      "Epoch 48/50\n",
      "50/50 [==============================] - 74s 1s/step - loss: 0.0000e+00 - accuracy: 0.0644 - val_loss: 0.0000e+00 - val_accuracy: 0.0000e+00\n",
      "Epoch 49/50\n",
      "50/50 [==============================] - 74s 1s/step - loss: 0.0000e+00 - accuracy: 0.0669 - val_loss: 0.0000e+00 - val_accuracy: 0.0000e+00\n",
      "Epoch 50/50\n",
      "50/50 [==============================] - 73s 1s/step - loss: 0.0000e+00 - accuracy: 0.0653 - val_loss: 0.0000e+00 - val_accuracy: 1.0000\n"
     ]
    }
   ],
   "source": [
    "history = model.fit_generator(\n",
    " generator=batch_generator(X_train, batch_size),\n",
    " steps_per_epoch=steps_per_epoch,\n",
    " epochs=n_epochs,\n",
    " verbose=1,\n",
    " validation_data=batch_generator(X_val, 32),\n",
    " validation_steps=5,\n",
    " callbacks=callbacks\n",
    " )\n"
   ]
  },
  {
   "cell_type": "code",
   "execution_count": 54,
   "metadata": {},
   "outputs": [
    {
     "data": {
      "text/plain": [
       "<keras.callbacks.callbacks.History at 0x1423c85ca90>"
      ]
     },
     "execution_count": 54,
     "metadata": {},
     "output_type": "execute_result"
    }
   ],
   "source": [
    "history"
   ]
  },
  {
   "cell_type": "code",
   "execution_count": null,
   "metadata": {
    "collapsed": true
   },
   "outputs": [],
   "source": [
    "model.save"
   ]
  }
 ],
 "metadata": {
  "kernelspec": {
   "display_name": "Python 3",
   "language": "python",
   "name": "python3"
  },
  "language_info": {
   "codemirror_mode": {
    "name": "ipython",
    "version": 3
   },
   "file_extension": ".py",
   "mimetype": "text/x-python",
   "name": "python",
   "nbconvert_exporter": "python",
   "pygments_lexer": "ipython3",
   "version": "3.7.1"
  }
 },
 "nbformat": 4,
 "nbformat_minor": 2
}
