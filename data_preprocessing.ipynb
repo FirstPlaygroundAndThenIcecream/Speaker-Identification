{
 "cells": [
  {
   "cell_type": "code",
   "execution_count": 36,
   "metadata": {},
   "outputs": [],
   "source": [
    "import os\n",
    "import numpy as np\n",
    "from wave import open as open_wave # for reading wave files\n",
    "import librosa\n",
    "import parselmouth\n",
    "import seaborn as sns\n",
    "from scipy import stats\n",
    "import shutil"
   ]
  },
  {
   "cell_type": "code",
   "execution_count": 37,
   "metadata": {},
   "outputs": [
    {
     "name": "stdout",
     "output_type": "stream",
     "text": [
      "15 audio files loaded\n"
     ]
    }
   ],
   "source": [
    "raw_data = \"raw_data/\"\n",
    "processed_data = \"processed_data/\"\n",
    "def fetch_voice_data(url=raw_data): \n",
    "    audios = []\n",
    "    for audio in os.listdir(raw_data):\n",
    "        if audio.endswith('.wav'):\n",
    "            audios.append(audio)\n",
    "    return audios\n",
    "\n",
    "audios = fetch_voice_data()\n",
    "print(str(len(audios)) + \" audio files loaded\")\n",
    "\n",
    "def npy_to_samples(numpy_array, sample_rate, sample_length, sample_count):\n",
    "    length = len(numpy_array)/sample_rate\n",
    "    print(str(length) + \" s\")\n",
    "    if len(numpy_array) < sample_rate*sample_length*sample_count:\n",
    "        return np.array([])\n",
    "    numpy_array = numpy_array[0:int(sample_rate * sample_length * sample_count)]\n",
    "    samples = np.empty((0,int(sample_rate * sample_length)), int)\n",
    "    for i in range(sample_count):\n",
    "        sample = numpy_array[0:int(sample_rate * sample_length)]\n",
    "        numpy_array = numpy_array[int(sample_rate * sample_length):]\n",
    "        samples = np.vstack((samples, sample))\n",
    "    return samples\n",
    "\n",
    "def delete_silence(y):\n",
    "    intervals = librosa.effects.split(y, top_db = 18)\n",
    "    non_silent_audio = np.zeros(y.shape)\n",
    "    for i in intervals:\n",
    "        start, end = i\n",
    "        non_silent_audio[start:end] = y[start:end]\n",
    "    non_silent_audio = non_silent_audio[(non_silent_audio != 0)]\n",
    "    return non_silent_audio"
   ]
  },
  {
   "cell_type": "code",
   "execution_count": 38,
   "metadata": {},
   "outputs": [
    {
     "name": "stdout",
     "output_type": "stream",
     "text": [
      "Bloopers.wav\n",
      "6.246167800453515 s\n",
      "Daniel.wav\n",
      "53.73219954648526 s\n",
      "Dorothy.wav\n",
      "8.890249433106575 s\n",
      "Emily.wav\n",
      "7.701678004535148 s\n",
      "Eva.wav\n",
      "38.620770975056686 s\n",
      "Jakub.wav\n",
      "30.735351473922904 s\n",
      "kahn.wav\n",
      "10.096893424036281 s\n",
      "Lei.wav\n",
      "0.8241723356009071 s\n",
      "levi.wav\n",
      "8.17342403628118 s\n",
      "LudvigPartybox.wav\n",
      "34.50485260770975 s\n",
      "Margarita.wav\n",
      "5.118911564625851 s\n",
      "Nancy.wav\n",
      "5.070816326530612 s\n",
      "ReneElevator.wav\n",
      "7.186575963718821 s\n",
      "Richard.wav\n",
      "73.57535147392291 s\n",
      "Robert.wav\n",
      "0.7081179138321996 s\n"
     ]
    }
   ],
   "source": [
    "if os.path.exists(\"processed_data\"):\n",
    "    shutil.rmtree(\"processed_data\")\n",
    "if not os.path.exists(\"processed_data\"):\n",
    "    os.makedirs(\"processed_data\")\n",
    "sns.set() # Use seaborn's default style to make attractive graphs\n",
    "y = [None] * len(audios)\n",
    "sr = [None] * len(audios)\n",
    "rows = []\n",
    "for i in range(len(audios)):\n",
    "    # load the file\n",
    "    print(audios[i])\n",
    "    y[i], sr[i] = librosa.load(raw_data + audios[i], mono = True, sr = 44100)\n",
    "    \n",
    "    # get the label\n",
    "    label = audios[i].split(\".\")\n",
    "    label.pop()\n",
    "    label = \"\".join(label)\n",
    "    \n",
    "    # remove silent parts\n",
    "    y[i] = delete_silence(y[i])\n",
    "    \n",
    "    # cut into pieces\n",
    "    sample_count = 50\n",
    "    sample_length = 0.2 # in seconds\n",
    "    samples = npy_to_samples(y[i], 44100, sample_length, sample_count)\n",
    "    if len(samples) > 0:\n",
    "        if not os.path.exists(processed_data + label):\n",
    "            os.makedirs(processed_data + label)\n",
    "        for j in range(sample_count):\n",
    "            librosa.output.write_wav(processed_data + label + \"/\" + label + str(j) + \".wav\", y[i], 44100)"
   ]
  },
  {
   "cell_type": "code",
   "execution_count": null,
   "metadata": {},
   "outputs": [],
   "source": []
  }
 ],
 "metadata": {
  "kernelspec": {
   "display_name": "Python 3",
   "language": "python",
   "name": "python3"
  },
  "language_info": {
   "codemirror_mode": {
    "name": "ipython",
    "version": 3
   },
   "file_extension": ".py",
   "mimetype": "text/x-python",
   "name": "python",
   "nbconvert_exporter": "python",
   "pygments_lexer": "ipython3",
   "version": "3.7.6"
  }
 },
 "nbformat": 4,
 "nbformat_minor": 4
}
