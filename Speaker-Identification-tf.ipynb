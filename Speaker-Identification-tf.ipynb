{
 "cells": [
  {
   "cell_type": "code",
   "execution_count": 1,
   "metadata": {},
   "outputs": [
    {
     "name": "stderr",
     "output_type": "stream",
     "text": [
      "D:\\Anaconda3\\lib\\site-packages\\pydub\\utils.py:165: RuntimeWarning: Couldn't find ffmpeg or avconv - defaulting to ffmpeg, but may not work\n",
      "  warn(\"Couldn't find ffmpeg or avconv - defaulting to ffmpeg, but may not work\", RuntimeWarning)\n",
      "D:\\Anaconda3\\lib\\site-packages\\pydub\\utils.py:179: RuntimeWarning: Couldn't find ffplay or avplay - defaulting to ffplay, but may not work\n",
      "  warn(\"Couldn't find ffplay or avplay - defaulting to ffplay, but may not work\", RuntimeWarning)\n"
     ]
    }
   ],
   "source": [
    "import os\n",
    "import numpy as np\n",
    "import matplotlib.pyplot as plt\n",
    "from time import sleep\n",
    "import pandas as pd\n",
    "\n",
    "import wave\n",
    "import librosa\n",
    "from pydub import AudioSegment\n",
    "from pydub.playback import play"
   ]
  },
  {
   "cell_type": "markdown",
   "metadata": {},
   "source": [
    "## fetch data"
   ]
  },
  {
   "cell_type": "code",
   "execution_count": 2,
   "metadata": {},
   "outputs": [
    {
     "name": "stdout",
     "output_type": "stream",
     "text": [
      "C:\\Users\\xianl_pmrkzzf\\SpeechRecognition\\Speaker-Identification\\audibles\n"
     ]
    }
   ],
   "source": [
    "DATA_FOLDER = \"audibles\"\n",
    "CURRENT_DIR = os.getcwd()\n",
    "FOLDER_PATH = os.path.join(CURRENT_DIR, DATA_FOLDER)\n",
    "AUDIBLES = ['Daniel.wav', 'good-afternoon.wav', 'Jakub.wav', \n",
    "           'LudvigElevator.wav', 'Richard.wav', 'good-morning_lei.wav']\n",
    "EXPORT_FOLDER = \"segments\"\n",
    "print(FOLDER_PATH)"
   ]
  },
  {
   "cell_type": "code",
   "execution_count": 60,
   "metadata": {},
   "outputs": [
    {
     "name": "stdout",
     "output_type": "stream",
     "text": [
      "['Daniel.wav', 'good-afternoon.wav', 'good-morning_lei.wav', 'Jakub.wav', 'LudvigElevator.wav', 'Richard.wav']\n"
     ]
    }
   ],
   "source": [
    "def fetch_voice_data(url, folder): \n",
    "    audios = []\n",
    "    for audio in os.listdir(url):\n",
    "        if audio.endswith('.wav'):\n",
    "            audios.append(os.path.join(audio))\n",
    "    return audios\n",
    "\n",
    "audibles = fetch_voice_data(FOLDER_PATH, DATA_FOLDER)\n",
    "print(audibles)"
   ]
  },
  {
   "cell_type": "code",
   "execution_count": 93,
   "metadata": {},
   "outputs": [],
   "source": [
    "## this part is to help another notebook\n",
    "url = 'C:/Users/xianl_pmrkzzf/Desktop/Kaggle-audio-tagging/audio_test/'\n",
    "test = fetch_voice_data(url, 'audio_test')\n",
    "len(test)\n",
    "\n",
    "\n",
    "import csv\n",
    "\n",
    "def save_csv(file_name, files):\n",
    "    with open(file_name, mode='w') as csv_file:\n",
    "        header = ['fname', 'label']\n",
    "        csv_writer = csv.DictWriter(csv_file, fieldnames=header)\n",
    "\n",
    "        csv_writer.writeheader()\n",
    "        if len(files) > 0:\n",
    "            for ele in files:\n",
    "                csv_writer.writerow({'fname': ele, 'label': ele.split('.')[0]})\n",
    "        else:\n",
    "            print(\"nothing to write to csv.\")\n",
    "\n",
    "#save_file('sample_submission.csv', 'Laughter Hi-Hat Flute', test)\n",
    "#save_csv('audibles_csv', audibles)"
   ]
  },
  {
   "cell_type": "code",
   "execution_count": 4,
   "metadata": {},
   "outputs": [],
   "source": [
    "def get_audibles(folder=DATA_FOLDER, audios=AUDIBLES):\n",
    "    audibles = []\n",
    "    for ele in audios:\n",
    "        path = os.path.join(folder, ele) \n",
    "        audibles.append(path)\n",
    "    return audibles"
   ]
  },
  {
   "cell_type": "code",
   "execution_count": 5,
   "metadata": {},
   "outputs": [],
   "source": [
    "def get_audio_stats(audio):\n",
    "    wav = wave.open(audio)\n",
    "    print(f\"channels: {wav.getnchannels()}\")\n",
    "    print(f\"sample rate: {wav.getframerate()}\")\n",
    "    print(f\"frames: {wav.getnframes()}\")\n",
    "    print(f\"sample width: {wav.getsampwidth()}\")\n",
    "    print(f\"duration: {wav.getnframes()/wav.getframerate()}\")\n"
   ]
  },
  {
   "cell_type": "code",
   "execution_count": 6,
   "metadata": {},
   "outputs": [
    {
     "name": "stdout",
     "output_type": "stream",
     "text": [
      "channels: 2\n",
      "sample rate: 48000\n",
      "frames: 166144\n",
      "sample width: 2\n",
      "duration: 3.461333333333333\n"
     ]
    }
   ],
   "source": [
    "get_audio_stats(audibles[1])"
   ]
  },
  {
   "cell_type": "markdown",
   "metadata": {},
   "source": [
    "## using pydub AudioSegment"
   ]
  },
  {
   "cell_type": "code",
   "execution_count": 7,
   "metadata": {},
   "outputs": [],
   "source": [
    "def get_audios_stats(audios):\n",
    "    for audio in audios:\n",
    "        signal = AudioSegment.from_file(audio)  \n",
    "        channels = signal.channels\n",
    "        sample_rate = signal.frame_rate\n",
    "        sample_width = signal.sample_width\n",
    "        length_ms = len(signal)\n",
    "        frame_width = signal.frame_width\n",
    "        print(f'{audio}\\nchannels: {channels}, sample_rate: {sample_rate}, \\\n",
    "        \\nsample_width: {sample_width}, length: {length_ms}, frame_width: {frame_width}\\n')"
   ]
  },
  {
   "cell_type": "code",
   "execution_count": 8,
   "metadata": {},
   "outputs": [
    {
     "name": "stdout",
     "output_type": "stream",
     "text": [
      "audibles\\Daniel.wav\n",
      "channels: 2, sample_rate: 44100,         \n",
      "sample_width: 2, length: 97003, frame_width: 4\n",
      "\n",
      "audibles\\good-afternoon.wav\n",
      "channels: 2, sample_rate: 48000,         \n",
      "sample_width: 2, length: 3461, frame_width: 4\n",
      "\n",
      "audibles\\good-morning_lei.wav\n",
      "channels: 2, sample_rate: 44100,         \n",
      "sample_width: 2, length: 1347, frame_width: 4\n",
      "\n",
      "audibles\\Jakub.wav\n",
      "channels: 2, sample_rate: 44100,         \n",
      "sample_width: 2, length: 77530, frame_width: 4\n",
      "\n",
      "audibles\\LudvigElevator.wav\n",
      "channels: 2, sample_rate: 48000,         \n",
      "sample_width: 2, length: 63104, frame_width: 4\n",
      "\n",
      "audibles\\Richard.wav\n",
      "channels: 2, sample_rate: 44100,         \n",
      "sample_width: 2, length: 101829, frame_width: 4\n",
      "\n"
     ]
    }
   ],
   "source": [
    "get_audios_stats(audibles)"
   ]
  },
  {
   "cell_type": "code",
   "execution_count": 26,
   "metadata": {},
   "outputs": [
    {
     "name": "stdout",
     "output_type": "stream",
     "text": [
      "['segments\\\\Daniel.wav', 'segments\\\\good-afternoon.wav', 'segments\\\\good-morning_lei.wav', 'segments\\\\Jakub.wav', 'segments\\\\LudvigElevator.wav', 'segments\\\\Richard.wav']\n",
      "segments\\Daniel.wav\n",
      "channels: 1, sample_rate: 44100,         \n",
      "sample_width: 2, length: 1000, frame_width: 2\n",
      "\n",
      "segments\\good-afternoon.wav\n",
      "channels: 1, sample_rate: 44100,         \n",
      "sample_width: 2, length: 1000, frame_width: 2\n",
      "\n",
      "segments\\good-morning_lei.wav\n",
      "channels: 1, sample_rate: 44100,         \n",
      "sample_width: 2, length: 1000, frame_width: 2\n",
      "\n",
      "segments\\Jakub.wav\n",
      "channels: 1, sample_rate: 44100,         \n",
      "sample_width: 2, length: 1000, frame_width: 2\n",
      "\n",
      "segments\\LudvigElevator.wav\n",
      "channels: 1, sample_rate: 44100,         \n",
      "sample_width: 2, length: 1000, frame_width: 2\n",
      "\n",
      "segments\\Richard.wav\n",
      "channels: 1, sample_rate: 44100,         \n",
      "sample_width: 2, length: 1000, frame_width: 2\n",
      "\n"
     ]
    }
   ],
   "source": [
    "def fetch_data(url=FOLDER_PATH, folder=EXPORT_FOLDER): \n",
    "    audios = []\n",
    "    for audio in os.listdir(url):\n",
    "        if audio.endswith('.wav'):\n",
    "            audios.append(os.path.join(folder, audio))\n",
    "    return audios\n",
    "\n",
    "audibles_1s = fetch_data()\n",
    "print(audibles_1s)\n",
    "get_audios_stats(audibles_1s)"
   ]
  },
  {
   "cell_type": "markdown",
   "metadata": {},
   "source": [
    "## visulize some data for observing"
   ]
  },
  {
   "cell_type": "code",
   "execution_count": 23,
   "metadata": {},
   "outputs": [],
   "source": [
    "from scipy.io import wavfile\n",
    "\n",
    "def plot_audio_frames(file): \n",
    "    rate, data = wavfile.read(file)\n",
    "    print(rate)\n",
    "    print(data.shape)\n",
    "    plt.plot(data, '-')\n",
    "    plt.figure(figsize=(16, 4))\n",
    "    plt.plot(data[:100], '.'); \n",
    "    plt.plot(data[:100], '-');"
   ]
  },
  {
   "cell_type": "markdown",
   "metadata": {},
   "source": [
    "## pre-processing data by using Librosa"
   ]
  },
  {
   "cell_type": "code",
   "execution_count": null,
   "metadata": {},
   "outputs": [],
   "source": [
    "## change the sample rate and channels of all audios to the same \n",
    "## add label of names\n",
    "## chunk each audio to 0.01s\n",
    "## each 0.01s is an array\n",
    "## each audio is a dataframe\n",
    "\n",
    "def transform_audios(audios=audibles):\n",
    "    audios_df = []\n",
    "    for audio in audibles:\n",
    "        samples, sample_rate = librosa.load(audio, sr=44100, mono=True, duration=1.0, dtype=np.float32)\n",
    "#        print(samples.shape)\n",
    "        samples_2d = samples.reshape(100, 441)\n",
    "        name = os.path.split(audio)[1].split('.')[0]\n",
    "        label = np.full((100,), name)\n",
    "        samples_df = pd.DataFrame(samples_2d)\n",
    "        samples_df[len(samples_df.columns)] = label\n",
    "        audios_df.append(samples_df)\n",
    "    return audios_df"
   ]
  },
  {
   "cell_type": "code",
   "execution_count": 33,
   "metadata": {},
   "outputs": [
    {
     "data": {
      "text/html": [
       "<div>\n",
       "<style scoped>\n",
       "    .dataframe tbody tr th:only-of-type {\n",
       "        vertical-align: middle;\n",
       "    }\n",
       "\n",
       "    .dataframe tbody tr th {\n",
       "        vertical-align: top;\n",
       "    }\n",
       "\n",
       "    .dataframe thead th {\n",
       "        text-align: right;\n",
       "    }\n",
       "</style>\n",
       "<table border=\"1\" class=\"dataframe\">\n",
       "  <thead>\n",
       "    <tr style=\"text-align: right;\">\n",
       "      <th></th>\n",
       "      <th>0</th>\n",
       "      <th>1</th>\n",
       "      <th>2</th>\n",
       "      <th>3</th>\n",
       "      <th>4</th>\n",
       "      <th>5</th>\n",
       "      <th>6</th>\n",
       "      <th>7</th>\n",
       "      <th>8</th>\n",
       "      <th>9</th>\n",
       "      <th>...</th>\n",
       "      <th>431</th>\n",
       "      <th>432</th>\n",
       "      <th>433</th>\n",
       "      <th>434</th>\n",
       "      <th>435</th>\n",
       "      <th>436</th>\n",
       "      <th>437</th>\n",
       "      <th>438</th>\n",
       "      <th>439</th>\n",
       "      <th>440</th>\n",
       "    </tr>\n",
       "  </thead>\n",
       "  <tbody>\n",
       "    <tr>\n",
       "      <th>count</th>\n",
       "      <td>100.000000</td>\n",
       "      <td>100.000000</td>\n",
       "      <td>100.000000</td>\n",
       "      <td>100.000000</td>\n",
       "      <td>100.000000</td>\n",
       "      <td>100.000000</td>\n",
       "      <td>100.000000</td>\n",
       "      <td>100.000000</td>\n",
       "      <td>100.000000</td>\n",
       "      <td>100.000000</td>\n",
       "      <td>...</td>\n",
       "      <td>100.000000</td>\n",
       "      <td>100.000000</td>\n",
       "      <td>100.000000</td>\n",
       "      <td>100.000000</td>\n",
       "      <td>100.000000</td>\n",
       "      <td>100.000000</td>\n",
       "      <td>100.000000</td>\n",
       "      <td>100.000000</td>\n",
       "      <td>100.000000</td>\n",
       "      <td>100.000000</td>\n",
       "    </tr>\n",
       "    <tr>\n",
       "      <th>mean</th>\n",
       "      <td>-0.004775</td>\n",
       "      <td>-0.005716</td>\n",
       "      <td>-0.006335</td>\n",
       "      <td>-0.006707</td>\n",
       "      <td>-0.006954</td>\n",
       "      <td>-0.007303</td>\n",
       "      <td>-0.007846</td>\n",
       "      <td>-0.008564</td>\n",
       "      <td>-0.009276</td>\n",
       "      <td>-0.009933</td>\n",
       "      <td>...</td>\n",
       "      <td>-0.001376</td>\n",
       "      <td>-0.001921</td>\n",
       "      <td>-0.001901</td>\n",
       "      <td>-0.001546</td>\n",
       "      <td>-0.001156</td>\n",
       "      <td>-0.000998</td>\n",
       "      <td>-0.001173</td>\n",
       "      <td>-0.001723</td>\n",
       "      <td>-0.002602</td>\n",
       "      <td>-0.003667</td>\n",
       "    </tr>\n",
       "    <tr>\n",
       "      <th>std</th>\n",
       "      <td>0.085317</td>\n",
       "      <td>0.084348</td>\n",
       "      <td>0.083554</td>\n",
       "      <td>0.083674</td>\n",
       "      <td>0.084558</td>\n",
       "      <td>0.085553</td>\n",
       "      <td>0.086263</td>\n",
       "      <td>0.086061</td>\n",
       "      <td>0.084972</td>\n",
       "      <td>0.083638</td>\n",
       "      <td>...</td>\n",
       "      <td>0.079169</td>\n",
       "      <td>0.076796</td>\n",
       "      <td>0.076347</td>\n",
       "      <td>0.077784</td>\n",
       "      <td>0.080212</td>\n",
       "      <td>0.082878</td>\n",
       "      <td>0.085005</td>\n",
       "      <td>0.086252</td>\n",
       "      <td>0.086763</td>\n",
       "      <td>0.086294</td>\n",
       "    </tr>\n",
       "    <tr>\n",
       "      <th>min</th>\n",
       "      <td>-0.188705</td>\n",
       "      <td>-0.182770</td>\n",
       "      <td>-0.177628</td>\n",
       "      <td>-0.192566</td>\n",
       "      <td>-0.206787</td>\n",
       "      <td>-0.214355</td>\n",
       "      <td>-0.216690</td>\n",
       "      <td>-0.214417</td>\n",
       "      <td>-0.218506</td>\n",
       "      <td>-0.212189</td>\n",
       "      <td>...</td>\n",
       "      <td>-0.253723</td>\n",
       "      <td>-0.249146</td>\n",
       "      <td>-0.241196</td>\n",
       "      <td>-0.231369</td>\n",
       "      <td>-0.221191</td>\n",
       "      <td>-0.211990</td>\n",
       "      <td>-0.204147</td>\n",
       "      <td>-0.200699</td>\n",
       "      <td>-0.197525</td>\n",
       "      <td>-0.195740</td>\n",
       "    </tr>\n",
       "    <tr>\n",
       "      <th>25%</th>\n",
       "      <td>-0.044109</td>\n",
       "      <td>-0.043716</td>\n",
       "      <td>-0.048439</td>\n",
       "      <td>-0.048958</td>\n",
       "      <td>-0.047333</td>\n",
       "      <td>-0.046513</td>\n",
       "      <td>-0.042828</td>\n",
       "      <td>-0.044197</td>\n",
       "      <td>-0.041023</td>\n",
       "      <td>-0.040638</td>\n",
       "      <td>...</td>\n",
       "      <td>-0.032791</td>\n",
       "      <td>-0.031242</td>\n",
       "      <td>-0.032646</td>\n",
       "      <td>-0.030590</td>\n",
       "      <td>-0.032440</td>\n",
       "      <td>-0.032753</td>\n",
       "      <td>-0.036926</td>\n",
       "      <td>-0.039444</td>\n",
       "      <td>-0.040081</td>\n",
       "      <td>-0.042049</td>\n",
       "    </tr>\n",
       "    <tr>\n",
       "      <th>50%</th>\n",
       "      <td>-0.004776</td>\n",
       "      <td>-0.005455</td>\n",
       "      <td>-0.004753</td>\n",
       "      <td>-0.006126</td>\n",
       "      <td>-0.005470</td>\n",
       "      <td>-0.004662</td>\n",
       "      <td>-0.003601</td>\n",
       "      <td>-0.003685</td>\n",
       "      <td>-0.004242</td>\n",
       "      <td>-0.003891</td>\n",
       "      <td>...</td>\n",
       "      <td>0.000000</td>\n",
       "      <td>-0.000496</td>\n",
       "      <td>-0.000679</td>\n",
       "      <td>-0.000549</td>\n",
       "      <td>-0.001205</td>\n",
       "      <td>-0.001640</td>\n",
       "      <td>-0.001541</td>\n",
       "      <td>-0.001747</td>\n",
       "      <td>-0.003654</td>\n",
       "      <td>-0.003517</td>\n",
       "    </tr>\n",
       "    <tr>\n",
       "      <th>75%</th>\n",
       "      <td>0.016636</td>\n",
       "      <td>0.016167</td>\n",
       "      <td>0.016697</td>\n",
       "      <td>0.015640</td>\n",
       "      <td>0.020966</td>\n",
       "      <td>0.020630</td>\n",
       "      <td>0.018604</td>\n",
       "      <td>0.018734</td>\n",
       "      <td>0.016541</td>\n",
       "      <td>0.014942</td>\n",
       "      <td>...</td>\n",
       "      <td>0.026497</td>\n",
       "      <td>0.030643</td>\n",
       "      <td>0.030548</td>\n",
       "      <td>0.030178</td>\n",
       "      <td>0.029682</td>\n",
       "      <td>0.027382</td>\n",
       "      <td>0.025505</td>\n",
       "      <td>0.021877</td>\n",
       "      <td>0.018867</td>\n",
       "      <td>0.016937</td>\n",
       "    </tr>\n",
       "    <tr>\n",
       "      <th>max</th>\n",
       "      <td>0.345306</td>\n",
       "      <td>0.337860</td>\n",
       "      <td>0.323730</td>\n",
       "      <td>0.307098</td>\n",
       "      <td>0.290131</td>\n",
       "      <td>0.274490</td>\n",
       "      <td>0.268250</td>\n",
       "      <td>0.281998</td>\n",
       "      <td>0.289673</td>\n",
       "      <td>0.292496</td>\n",
       "      <td>...</td>\n",
       "      <td>0.269440</td>\n",
       "      <td>0.238861</td>\n",
       "      <td>0.226257</td>\n",
       "      <td>0.245255</td>\n",
       "      <td>0.265701</td>\n",
       "      <td>0.287186</td>\n",
       "      <td>0.307632</td>\n",
       "      <td>0.325150</td>\n",
       "      <td>0.338898</td>\n",
       "      <td>0.345856</td>\n",
       "    </tr>\n",
       "  </tbody>\n",
       "</table>\n",
       "<p>8 rows × 441 columns</p>\n",
       "</div>"
      ],
      "text/plain": [
       "              0           1           2           3           4           5    \\\n",
       "count  100.000000  100.000000  100.000000  100.000000  100.000000  100.000000   \n",
       "mean    -0.004775   -0.005716   -0.006335   -0.006707   -0.006954   -0.007303   \n",
       "std      0.085317    0.084348    0.083554    0.083674    0.084558    0.085553   \n",
       "min     -0.188705   -0.182770   -0.177628   -0.192566   -0.206787   -0.214355   \n",
       "25%     -0.044109   -0.043716   -0.048439   -0.048958   -0.047333   -0.046513   \n",
       "50%     -0.004776   -0.005455   -0.004753   -0.006126   -0.005470   -0.004662   \n",
       "75%      0.016636    0.016167    0.016697    0.015640    0.020966    0.020630   \n",
       "max      0.345306    0.337860    0.323730    0.307098    0.290131    0.274490   \n",
       "\n",
       "              6           7           8           9    ...         431  \\\n",
       "count  100.000000  100.000000  100.000000  100.000000  ...  100.000000   \n",
       "mean    -0.007846   -0.008564   -0.009276   -0.009933  ...   -0.001376   \n",
       "std      0.086263    0.086061    0.084972    0.083638  ...    0.079169   \n",
       "min     -0.216690   -0.214417   -0.218506   -0.212189  ...   -0.253723   \n",
       "25%     -0.042828   -0.044197   -0.041023   -0.040638  ...   -0.032791   \n",
       "50%     -0.003601   -0.003685   -0.004242   -0.003891  ...    0.000000   \n",
       "75%      0.018604    0.018734    0.016541    0.014942  ...    0.026497   \n",
       "max      0.268250    0.281998    0.289673    0.292496  ...    0.269440   \n",
       "\n",
       "              432         433         434         435         436         437  \\\n",
       "count  100.000000  100.000000  100.000000  100.000000  100.000000  100.000000   \n",
       "mean    -0.001921   -0.001901   -0.001546   -0.001156   -0.000998   -0.001173   \n",
       "std      0.076796    0.076347    0.077784    0.080212    0.082878    0.085005   \n",
       "min     -0.249146   -0.241196   -0.231369   -0.221191   -0.211990   -0.204147   \n",
       "25%     -0.031242   -0.032646   -0.030590   -0.032440   -0.032753   -0.036926   \n",
       "50%     -0.000496   -0.000679   -0.000549   -0.001205   -0.001640   -0.001541   \n",
       "75%      0.030643    0.030548    0.030178    0.029682    0.027382    0.025505   \n",
       "max      0.238861    0.226257    0.245255    0.265701    0.287186    0.307632   \n",
       "\n",
       "              438         439         440  \n",
       "count  100.000000  100.000000  100.000000  \n",
       "mean    -0.001723   -0.002602   -0.003667  \n",
       "std      0.086252    0.086763    0.086294  \n",
       "min     -0.200699   -0.197525   -0.195740  \n",
       "25%     -0.039444   -0.040081   -0.042049  \n",
       "50%     -0.001747   -0.003654   -0.003517  \n",
       "75%      0.021877    0.018867    0.016937  \n",
       "max      0.325150    0.338898    0.345856  \n",
       "\n",
       "[8 rows x 441 columns]"
      ]
     },
     "execution_count": 33,
     "metadata": {},
     "output_type": "execute_result"
    }
   ],
   "source": [
    "audios_df = transform_audios()\n",
    "audios_df[2].describe()"
   ]
  },
  {
   "cell_type": "code",
   "execution_count": 38,
   "metadata": {},
   "outputs": [
    {
     "name": "stdout",
     "output_type": "stream",
     "text": [
      "<class 'pandas.core.frame.DataFrame'>\n",
      "RangeIndex: 100 entries, 0 to 99\n",
      "Columns: 442 entries, 0 to 441\n",
      "dtypes: float32(441), object(1)\n",
      "memory usage: 173.2+ KB\n"
     ]
    }
   ],
   "source": [
    "audios_df[1].info()"
   ]
  },
  {
   "cell_type": "markdown",
   "metadata": {},
   "source": [
    "## experiment area"
   ]
  },
  {
   "cell_type": "code",
   "execution_count": 12,
   "metadata": {},
   "outputs": [
    {
     "name": "stdout",
     "output_type": "stream",
     "text": [
      "[[ 0  1  2  3  4]\n",
      " [ 5  6  7  8  9]\n",
      " [10 11 12 13 14]]\n"
     ]
    },
    {
     "data": {
      "text/html": [
       "<div>\n",
       "<style scoped>\n",
       "    .dataframe tbody tr th:only-of-type {\n",
       "        vertical-align: middle;\n",
       "    }\n",
       "\n",
       "    .dataframe tbody tr th {\n",
       "        vertical-align: top;\n",
       "    }\n",
       "\n",
       "    .dataframe thead th {\n",
       "        text-align: right;\n",
       "    }\n",
       "</style>\n",
       "<table border=\"1\" class=\"dataframe\">\n",
       "  <thead>\n",
       "    <tr style=\"text-align: right;\">\n",
       "      <th></th>\n",
       "      <th>0</th>\n",
       "      <th>1</th>\n",
       "      <th>2</th>\n",
       "      <th>3</th>\n",
       "      <th>4</th>\n",
       "    </tr>\n",
       "  </thead>\n",
       "  <tbody>\n",
       "    <tr>\n",
       "      <th>0</th>\n",
       "      <td>0</td>\n",
       "      <td>1</td>\n",
       "      <td>2</td>\n",
       "      <td>3</td>\n",
       "      <td>4</td>\n",
       "    </tr>\n",
       "    <tr>\n",
       "      <th>1</th>\n",
       "      <td>5</td>\n",
       "      <td>6</td>\n",
       "      <td>7</td>\n",
       "      <td>8</td>\n",
       "      <td>9</td>\n",
       "    </tr>\n",
       "    <tr>\n",
       "      <th>2</th>\n",
       "      <td>10</td>\n",
       "      <td>11</td>\n",
       "      <td>12</td>\n",
       "      <td>13</td>\n",
       "      <td>14</td>\n",
       "    </tr>\n",
       "  </tbody>\n",
       "</table>\n",
       "</div>"
      ],
      "text/plain": [
       "    0   1   2   3   4\n",
       "0   0   1   2   3   4\n",
       "1   5   6   7   8   9\n",
       "2  10  11  12  13  14"
      ]
     },
     "execution_count": 12,
     "metadata": {},
     "output_type": "execute_result"
    }
   ],
   "source": [
    "x = np.array([])\n",
    "zz = np.arange(15).reshape(3, 5)\n",
    "print(zz)\n",
    "df = pd.DataFrame(zz)\n",
    "df\n"
   ]
  },
  {
   "cell_type": "code",
   "execution_count": 13,
   "metadata": {},
   "outputs": [
    {
     "data": {
      "text/html": [
       "<div>\n",
       "<style scoped>\n",
       "    .dataframe tbody tr th:only-of-type {\n",
       "        vertical-align: middle;\n",
       "    }\n",
       "\n",
       "    .dataframe tbody tr th {\n",
       "        vertical-align: top;\n",
       "    }\n",
       "\n",
       "    .dataframe thead th {\n",
       "        text-align: right;\n",
       "    }\n",
       "</style>\n",
       "<table border=\"1\" class=\"dataframe\">\n",
       "  <thead>\n",
       "    <tr style=\"text-align: right;\">\n",
       "      <th></th>\n",
       "      <th>0</th>\n",
       "      <th>1</th>\n",
       "      <th>2</th>\n",
       "      <th>3</th>\n",
       "      <th>4</th>\n",
       "      <th>5</th>\n",
       "    </tr>\n",
       "  </thead>\n",
       "  <tbody>\n",
       "    <tr>\n",
       "      <th>0</th>\n",
       "      <td>0</td>\n",
       "      <td>1</td>\n",
       "      <td>2</td>\n",
       "      <td>3</td>\n",
       "      <td>4</td>\n",
       "      <td>0</td>\n",
       "    </tr>\n",
       "    <tr>\n",
       "      <th>1</th>\n",
       "      <td>5</td>\n",
       "      <td>6</td>\n",
       "      <td>7</td>\n",
       "      <td>8</td>\n",
       "      <td>9</td>\n",
       "      <td>1</td>\n",
       "    </tr>\n",
       "    <tr>\n",
       "      <th>2</th>\n",
       "      <td>10</td>\n",
       "      <td>11</td>\n",
       "      <td>12</td>\n",
       "      <td>13</td>\n",
       "      <td>14</td>\n",
       "      <td>2</td>\n",
       "    </tr>\n",
       "  </tbody>\n",
       "</table>\n",
       "</div>"
      ],
      "text/plain": [
       "    0   1   2   3   4  5\n",
       "0   0   1   2   3   4  0\n",
       "1   5   6   7   8   9  1\n",
       "2  10  11  12  13  14  2"
      ]
     },
     "execution_count": 13,
     "metadata": {},
     "output_type": "execute_result"
    }
   ],
   "source": [
    "df.head()\n",
    "z = np.arange(3)\n",
    "z\n",
    "df[len(df.columns)] = z\n",
    "df"
   ]
  },
  {
   "cell_type": "markdown",
   "metadata": {},
   "source": [
    "## using pydub AudioSegment"
   ]
  },
  {
   "cell_type": "code",
   "execution_count": 21,
   "metadata": {},
   "outputs": [],
   "source": [
    "def trim_audios_1s(audios=audibles):\n",
    "    audibles_1s = []\n",
    "    for ele in audios:\n",
    "        audio = AudioSegment.from_file(ele) \n",
    "        audio_seg = audio[:1000]\n",
    "        if audio_seg.channels != 1:\n",
    "            audio_seg = audio_seg.set_channels(1)\n",
    "        if audio_seg.frame_rate != 44100:\n",
    "            audio_seg = audio_seg.set_frame_rate(44100) \n",
    "        audibles_1s.append(audio_seg)\n",
    "        audio_name = os.path.split(ele)[1]\n",
    "        export_fname = os.path.join(EXPORT_FOLDER, audio_name)\n",
    "        print(export_fname)\n",
    "        audio_seg.export(out_f=export_fname, format='wav')\n",
    "    return audibles_1s"
   ]
  },
  {
   "cell_type": "code",
   "execution_count": 22,
   "metadata": {
    "scrolled": false
   },
   "outputs": [
    {
     "name": "stdout",
     "output_type": "stream",
     "text": [
      "segments\\Daniel.wav\n",
      "segments\\good-afternoon.wav\n",
      "segments\\good-morning_lei.wav\n",
      "segments\\Jakub.wav\n",
      "segments\\LudvigElevator.wav\n",
      "segments\\Richard.wav\n"
     ]
    }
   ],
   "source": [
    "# get the 1s of the selected audios\n",
    "audibles_1s = trim_audios_1s()\n",
    "\n",
    "        \n",
    "    "
   ]
  },
  {
   "cell_type": "code",
   "execution_count": 25,
   "metadata": {},
   "outputs": [
    {
     "name": "stdout",
     "output_type": "stream",
     "text": [
      "<class 'pydub.audio_segment.AudioSegment'>\n",
      "44100\n",
      "(44100,)\n"
     ]
    },
    {
     "data": {
      "image/png": "[encoded data removed]",
      "text/plain": [
       "<Figure size 432x288 with 1 Axes>"
      ]
     },
     "metadata": {
      "needs_background": "light"
     },
     "output_type": "display_data"
    },
    {
     "data": {
      "image/png": "[encoded data removed]",
      "text/plain": [
       "<Figure size 1152x288 with 1 Axes>"
      ]
     },
     "metadata": {
      "needs_background": "light"
     },
     "output_type": "display_data"
    }
   ],
   "source": [
    "print(type(audibles_1s[2]))\n",
    "\n",
    "audio_1s = os.path.join(EXPORT_FOLDER, 'Daniel.wav')\n",
    "plot_audio_frames(audio_1s)\n"
   ]
  },
  {
   "cell_type": "code",
   "execution_count": 105,
   "metadata": {},
   "outputs": [
    {
     "data": {
      "image/png": "[encoded data removed]",
      "text/plain": [
       "<Figure size 1152x288 with 1 Axes>"
      ]
     },
     "metadata": {
      "needs_background": "light"
     },
     "output_type": "display_data"
    }
   ],
   "source": [
    "\n",
    "import seaborn as sns\n",
    "\n",
    "audibles_csv = pd.read_csv('audibles_csv')\n",
    "audibles_csv['nframes'] = audibles_csv['fname'].apply(lambda f: wave.open('audibles/' + f).getnframes())\n",
    "\n",
    "_, ax = plt.subplots(figsize=(16, 4))\n",
    "sns.violinplot(ax=ax, x=\"label\", y=\"nframes\", data=audibles_csv)\n",
    "plt.xticks(rotation=90)\n",
    "plt.title('Distribution of audio frames, per label', fontsize=16)\n",
    "plt.show()"
   ]
  },
  {
   "cell_type": "code",
   "execution_count": 106,
   "metadata": {},
   "outputs": [
    {
     "data": {
      "image/png": "[encoded data removed]",
      "text/plain": [
       "<Figure size 1152x360 with 2 Axes>"
      ]
     },
     "metadata": {
      "needs_background": "light"
     },
     "output_type": "display_data"
    }
   ],
   "source": [
    "fig, axes = plt.subplots(nrows=1, ncols=2, figsize=(16,5))\n",
    "audibles_csv.nframes.hist(bins=100, ax=axes[0])\n",
    "#test.nframes.hist(bins=100, ax=axes[1])\n",
    "plt.suptitle('Frame Length Distribution in Train and Test', ha='center', fontsize='large');"
   ]
  },
  {
   "cell_type": "code",
   "execution_count": 104,
   "metadata": {},
   "outputs": [
    {
     "ename": "AttributeError",
     "evalue": "'str' object has no attribute 'set_sample_width'",
     "output_type": "error",
     "traceback": [
      "\u001b[1;31m---------------------------------------------------------------------------\u001b[0m",
      "\u001b[1;31mAttributeError\u001b[0m                            Traceback (most recent call last)",
      "\u001b[1;32m<ipython-input-104-07773f752d6a>\u001b[0m in \u001b[0;36m<module>\u001b[1;34m\u001b[0m\n\u001b[1;32m----> 1\u001b[1;33m \u001b[0mau\u001b[0m \u001b[1;33m=\u001b[0m \u001b[0maudibles_1s\u001b[0m\u001b[1;33m[\u001b[0m\u001b[1;36m0\u001b[0m\u001b[1;33m]\u001b[0m\u001b[1;33m.\u001b[0m\u001b[0mset_sample_width\u001b[0m\u001b[1;33m(\u001b[0m\u001b[1;36m1\u001b[0m\u001b[1;33m)\u001b[0m\u001b[1;33m\u001b[0m\u001b[1;33m\u001b[0m\u001b[0m\n\u001b[0m\u001b[0;32m      2\u001b[0m \u001b[0mplay\u001b[0m\u001b[1;33m(\u001b[0m\u001b[0mau\u001b[0m\u001b[1;33m)\u001b[0m\u001b[1;33m\u001b[0m\u001b[1;33m\u001b[0m\u001b[0m\n",
      "\u001b[1;31mAttributeError\u001b[0m: 'str' object has no attribute 'set_sample_width'"
     ]
    }
   ],
   "source": [
    "au = audibles_1s[0].set_sample_width(1)\n",
    "play(au)\n"
   ]
  },
  {
   "cell_type": "code",
   "execution_count": null,
   "metadata": {},
   "outputs": [],
   "source": [
    "audibles_1s[0].channels"
   ]
  },
  {
   "cell_type": "code",
   "execution_count": null,
   "metadata": {},
   "outputs": [],
   "source": [
    "## using pydub\n",
    "\n",
    "def get_file_stats(file_name):\n",
    "    audio_segment = AudioSegment.from_file(file_name)\n",
    "    \n",
    "    channels = audio_segment.channels\n",
    "    sample_width = audio_segment.sample_width\n",
    "    sample_rate = audio_segment.frame_rate\n",
    "    frame_width = audio_segment.frame_width\n",
    "    length_ms = len(audio_segment)\n",
    "    \n",
    "    audio_stats = [file_name, channels, sample_width, sample_rate,\n",
    "                           frame_width, length_ms]\n",
    "    \n",
    "    print(file_name)\n",
    "    print(f\"Channels: {audio_segment.channels}\")\n",
    "    print(f\"Sample width: {audio_segment.sample_width}\")\n",
    "    print(f\"Frame rate (sample rate): {audio_segment.frame_rate}\")\n",
    "    print(f\"Frame width: {audio_segment.frame_width}\")\n",
    "    print(f\"Length (ms): {len(audio_segment)}\")\n",
    "\n",
    "    return audio_stats"
   ]
  },
  {
   "cell_type": "code",
   "execution_count": null,
   "metadata": {},
   "outputs": [],
   "source": [
    "audio_stats = get_file_stats(audios[0])\n",
    "audio_stats"
   ]
  },
  {
   "cell_type": "code",
   "execution_count": null,
   "metadata": {},
   "outputs": [],
   "source": [
    "def process_audio(audios):\n",
    "    for audio in audios:\n",
    "        print(audio)\n",
    "        audio_c = AudioSegment.from_file(audio)\n",
    "        sample = audio_c[500:1500]\n",
    "        play(sample)\n",
    "        sleep(1)\n",
    "#        audio_stats = get_file_stats(audio_c)"
   ]
  },
  {
   "cell_type": "code",
   "execution_count": null,
   "metadata": {},
   "outputs": [],
   "source": [
    "process_audio(audios)\n"
   ]
  },
  {
   "cell_type": "markdown",
   "metadata": {},
   "source": [
    "## enumerate example"
   ]
  },
  {
   "cell_type": "code",
   "execution_count": null,
   "metadata": {},
   "outputs": [],
   "source": [
    "labels = [\"a\", \"b\", \"c\"]"
   ]
  },
  {
   "cell_type": "code",
   "execution_count": null,
   "metadata": {},
   "outputs": [],
   "source": [
    "label_x = {label: i for i, label in enumerate(labels)}"
   ]
  },
  {
   "cell_type": "code",
   "execution_count": null,
   "metadata": {},
   "outputs": [],
   "source": [
    "label_x"
   ]
  },
  {
   "cell_type": "markdown",
   "metadata": {},
   "source": [
    "## using Librosa to calculate mfcc"
   ]
  },
  {
   "cell_type": "code",
   "execution_count": 52,
   "metadata": {},
   "outputs": [],
   "source": [
    "SAMPLE_RATE = 44100\n",
    "fname = \"segments/good-afternoon.wav\"\n",
    "wav, _ = librosa.core.load(fname, sr=SAMPLE_RATE)\n",
    "#wav = wav[:2*48000]"
   ]
  },
  {
   "cell_type": "code",
   "execution_count": 53,
   "metadata": {},
   "outputs": [
    {
     "data": {
      "text/plain": [
       "(40, 87)"
      ]
     },
     "execution_count": 53,
     "metadata": {},
     "output_type": "execute_result"
    }
   ],
   "source": [
    "mfcc = librosa.feature.mfcc(wav, sr=SAMPLE_RATE, n_mfcc=40)\n",
    "mfcc.shape"
   ]
  },
  {
   "cell_type": "code",
   "execution_count": 54,
   "metadata": {},
   "outputs": [
    {
     "data": {
      "text/plain": [
       "<matplotlib.image.AxesImage at 0x1bcdc1af208>"
      ]
     },
     "execution_count": 54,
     "metadata": {},
     "output_type": "execute_result"
    },
    {
     "data": {
      "image/png": "[encoded data removed]",
      "text/plain": [
       "<Figure size 432x288 with 1 Axes>"
      ]
     },
     "metadata": {
      "needs_background": "light"
     },
     "output_type": "display_data"
    }
   ],
   "source": [
    "plt.imshow(mfcc, cmap='hot', interpolation='nearest')"
   ]
  },
  {
   "cell_type": "code",
   "execution_count": 43,
   "metadata": {},
   "outputs": [],
   "source": [
    "def get_mfcc(file_name, sample_rate):\n",
    "    SAMPLE_RATE = 48000\n",
    "    wav, _ = librosa.core.load(file_name, sr=sample_rate)\n",
    "## don't know if this should be include and why\n",
    "    #wav = wav[:2*48000]\n",
    "    mfcc = librosa.feature.mfcc(wav, sr=SAMPLE_RATE, n_mfcc=40)\n",
    "    print(f\"'{file_name}' has mfcc {mfcc.shape}\")\n",
    "    return mfcc"
   ]
  },
  {
   "cell_type": "code",
   "execution_count": 44,
   "metadata": {},
   "outputs": [
    {
     "name": "stdout",
     "output_type": "stream",
     "text": [
      "'segments/Daniel.wav' has mfcc (40, 87)\n"
     ]
    },
    {
     "data": {
      "text/plain": [
       "array([[-7.54746900e+02, -7.55069036e+02, -3.95814534e+02, ...,\n",
       "        -3.51693628e+02, -3.03820355e+02, -2.93148795e+02],\n",
       "       [-8.81625023e-01, -6.41698755e-01,  1.90553415e+02, ...,\n",
       "         1.74722322e+02,  1.69687789e+02,  1.82963266e+02],\n",
       "       [ 1.62233610e+00,  1.17044670e+00, -4.38758236e+01, ...,\n",
       "        -4.20520072e+01, -3.46275280e+01, -2.17756684e+01],\n",
       "       ...,\n",
       "       [ 4.25559249e-01,  3.28931185e-01, -1.77771327e+00, ...,\n",
       "        -4.08063437e+00, -4.81619820e-01, -2.99578787e+00],\n",
       "       [ 2.48478922e-01,  1.45986202e-01,  8.67889362e-01, ...,\n",
       "         2.41577330e-01, -2.28262815e-01, -2.76760120e+00],\n",
       "       [ 4.12925717e-01,  3.31872447e-01, -1.42126276e+00, ...,\n",
       "        -4.55604248e-01,  3.14754257e+00,  1.28964462e+00]])"
      ]
     },
     "execution_count": 44,
     "metadata": {},
     "output_type": "execute_result"
    }
   ],
   "source": [
    "get_mfcc(fname, SAMPLE_RATE)"
   ]
  },
  {
   "cell_type": "code",
   "execution_count": 107,
   "metadata": {},
   "outputs": [],
   "source": [
    "import tensorflow as tf"
   ]
  },
  {
   "cell_type": "code",
   "execution_count": 108,
   "metadata": {},
   "outputs": [],
   "source": [
    "x = tf.Variable(3, name=\"x\")\n",
    "y = tf.Variable(4, name=\"y\")\n",
    "f = x*x*y + y +2"
   ]
  },
  {
   "cell_type": "code",
   "execution_count": 115,
   "metadata": {},
   "outputs": [
    {
     "ename": "RuntimeError",
     "evalue": "The Session graph is empty.  Add operations to the graph before calling run().",
     "output_type": "error",
     "traceback": [
      "\u001b[1;31m---------------------------------------------------------------------------\u001b[0m",
      "\u001b[1;31mRuntimeError\u001b[0m                              Traceback (most recent call last)",
      "\u001b[1;32m<ipython-input-115-53e7e103e38b>\u001b[0m in \u001b[0;36m<module>\u001b[1;34m\u001b[0m\n\u001b[0;32m      1\u001b[0m \u001b[1;32mwith\u001b[0m \u001b[0mtf\u001b[0m\u001b[1;33m.\u001b[0m\u001b[0mcompat\u001b[0m\u001b[1;33m.\u001b[0m\u001b[0mv1\u001b[0m\u001b[1;33m.\u001b[0m\u001b[0mSession\u001b[0m\u001b[1;33m(\u001b[0m\u001b[1;33m)\u001b[0m \u001b[1;32mas\u001b[0m \u001b[0msess\u001b[0m\u001b[1;33m:\u001b[0m\u001b[1;33m\u001b[0m\u001b[1;33m\u001b[0m\u001b[0m\n\u001b[1;32m----> 2\u001b[1;33m     \u001b[0msess\u001b[0m\u001b[1;33m.\u001b[0m\u001b[0mrun\u001b[0m\u001b[1;33m(\u001b[0m\u001b[0mx\u001b[0m\u001b[1;33m.\u001b[0m\u001b[0minitializer\u001b[0m\u001b[1;33m)\u001b[0m\u001b[1;33m\u001b[0m\u001b[1;33m\u001b[0m\u001b[0m\n\u001b[0m\u001b[0;32m      3\u001b[0m     \u001b[0msess\u001b[0m\u001b[1;33m.\u001b[0m\u001b[0mrun\u001b[0m\u001b[1;33m(\u001b[0m\u001b[0my\u001b[0m\u001b[1;33m.\u001b[0m\u001b[0minitializer\u001b[0m\u001b[1;33m)\u001b[0m\u001b[1;33m\u001b[0m\u001b[1;33m\u001b[0m\u001b[0m\n\u001b[0;32m      4\u001b[0m     \u001b[0mresult\u001b[0m \u001b[1;33m=\u001b[0m \u001b[0msess\u001b[0m\u001b[1;33m.\u001b[0m\u001b[0mrun\u001b[0m\u001b[1;33m(\u001b[0m\u001b[0mf\u001b[0m\u001b[1;33m)\u001b[0m\u001b[1;33m\u001b[0m\u001b[1;33m\u001b[0m\u001b[0m\n\u001b[0;32m      5\u001b[0m     \u001b[0mprint\u001b[0m\u001b[1;33m(\u001b[0m\u001b[0mresult\u001b[0m\u001b[1;33m)\u001b[0m\u001b[1;33m\u001b[0m\u001b[1;33m\u001b[0m\u001b[0m\n",
      "\u001b[1;32mD:\\Anaconda3\\lib\\site-packages\\tensorflow_core\\python\\client\\session.py\u001b[0m in \u001b[0;36mrun\u001b[1;34m(self, fetches, feed_dict, options, run_metadata)\u001b[0m\n\u001b[0;32m    954\u001b[0m     \u001b[1;32mtry\u001b[0m\u001b[1;33m:\u001b[0m\u001b[1;33m\u001b[0m\u001b[1;33m\u001b[0m\u001b[0m\n\u001b[0;32m    955\u001b[0m       result = self._run(None, fetches, feed_dict, options_ptr,\n\u001b[1;32m--> 956\u001b[1;33m                          run_metadata_ptr)\n\u001b[0m\u001b[0;32m    957\u001b[0m       \u001b[1;32mif\u001b[0m \u001b[0mrun_metadata\u001b[0m\u001b[1;33m:\u001b[0m\u001b[1;33m\u001b[0m\u001b[1;33m\u001b[0m\u001b[0m\n\u001b[0;32m    958\u001b[0m         \u001b[0mproto_data\u001b[0m \u001b[1;33m=\u001b[0m \u001b[0mtf_session\u001b[0m\u001b[1;33m.\u001b[0m\u001b[0mTF_GetBuffer\u001b[0m\u001b[1;33m(\u001b[0m\u001b[0mrun_metadata_ptr\u001b[0m\u001b[1;33m)\u001b[0m\u001b[1;33m\u001b[0m\u001b[1;33m\u001b[0m\u001b[0m\n",
      "\u001b[1;32mD:\\Anaconda3\\lib\\site-packages\\tensorflow_core\\python\\client\\session.py\u001b[0m in \u001b[0;36m_run\u001b[1;34m(self, handle, fetches, feed_dict, options, run_metadata)\u001b[0m\n\u001b[0;32m   1103\u001b[0m       \u001b[1;32mraise\u001b[0m \u001b[0mRuntimeError\u001b[0m\u001b[1;33m(\u001b[0m\u001b[1;34m'Attempted to use a closed Session.'\u001b[0m\u001b[1;33m)\u001b[0m\u001b[1;33m\u001b[0m\u001b[1;33m\u001b[0m\u001b[0m\n\u001b[0;32m   1104\u001b[0m     \u001b[1;32mif\u001b[0m \u001b[0mself\u001b[0m\u001b[1;33m.\u001b[0m\u001b[0mgraph\u001b[0m\u001b[1;33m.\u001b[0m\u001b[0mversion\u001b[0m \u001b[1;33m==\u001b[0m \u001b[1;36m0\u001b[0m\u001b[1;33m:\u001b[0m\u001b[1;33m\u001b[0m\u001b[1;33m\u001b[0m\u001b[0m\n\u001b[1;32m-> 1105\u001b[1;33m       raise RuntimeError('The Session graph is empty.  Add operations to the '\n\u001b[0m\u001b[0;32m   1106\u001b[0m                          'graph before calling run().')\n\u001b[0;32m   1107\u001b[0m \u001b[1;33m\u001b[0m\u001b[0m\n",
      "\u001b[1;31mRuntimeError\u001b[0m: The Session graph is empty.  Add operations to the graph before calling run()."
     ]
    }
   ],
   "source": [
    "with tf.compat.v1.Session() as sess:\n",
    "    sess.run(x.initializer)\n",
    "    sess.run(y.initializer)\n",
    "    result = sess.run(f)\n",
    "    print(result)"
   ]
  },
  {
   "cell_type": "code",
   "execution_count": 112,
   "metadata": {},
   "outputs": [
    {
     "name": "stdout",
     "output_type": "stream",
     "text": [
      "2.0.0\n"
     ]
    }
   ],
   "source": [
    "print(tf.__version__)"
   ]
  },
  {
   "cell_type": "code",
   "execution_count": 116,
   "metadata": {},
   "outputs": [
    {
     "name": "stdout",
     "output_type": "stream",
     "text": [
      "Num GPUs Available:  0\n"
     ]
    }
   ],
   "source": [
    "import tensorflow as tf\n",
    "print(\"Num GPUs Available: \", len(tf.config.experimental.list_physical_devices('GPU')))\n"
   ]
  },
  {
   "cell_type": "code",
   "execution_count": null,
   "metadata": {},
   "outputs": [],
   "source": []
  }
 ],
 "metadata": {
  "kernelspec": {
   "display_name": "Python 3",
   "language": "python",
   "name": "python3"
  },
  "language_info": {
   "codemirror_mode": {
    "name": "ipython",
    "version": 3
   },
   "file_extension": ".py",
   "mimetype": "text/x-python",
   "name": "python",
   "nbconvert_exporter": "python",
   "pygments_lexer": "ipython3",
   "version": "3.7.1"
  }
 },
 "nbformat": 4,
 "nbformat_minor": 4
}
